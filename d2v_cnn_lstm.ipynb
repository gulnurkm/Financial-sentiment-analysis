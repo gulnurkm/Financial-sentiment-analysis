{
  "nbformat": 4,
  "nbformat_minor": 0,
  "metadata": {
    "colab": {
      "name": "d2v_cnn_lstm.ipynb",
      "provenance": [],
      "toc_visible": true
    },
    "kernelspec": {
      "display_name": "Python 3",
      "name": "python3"
    },
    "language_info": {
      "name": "python"
    }
  },
  "cells": [
    {
      "cell_type": "code",
      "metadata": {
        "id": "6I8L_LI5o0ro"
      },
      "source": [
        "import numpy as np\n",
        "import pandas as pd\n",
        "import matplotlib.pyplot as plt\n",
        "from wordcloud import WordCloud\n",
        "import nltk\n",
        "from string import punctuation\n",
        "from nltk.corpus import stopwords, wordnet\n",
        "from nltk import pos_tag\n",
        "from nltk.stem import WordNetLemmatizer\n",
        "from nltk.tokenize import word_tokenize\n",
        "from sklearn.model_selection import train_test_split\n",
        "from gensim.models import Doc2Vec\n",
        "from gensim.models.doc2vec import TaggedDocument\n",
        "from sklearn import utils\n",
        "from tensorflow.keras.utils import to_categorical\n",
        "from keras.preprocessing.text import Tokenizer\n",
        "from keras.preprocessing.sequence import pad_sequences\n",
        "from keras.models import Sequential\n",
        "from keras.layers import LSTM, Dense, Flatten, Embedding, Dropout,BatchNormalization\n",
        "from keras.layers.convolutional import Conv1D\n",
        "from keras.layers.convolutional import MaxPooling1D\n",
        "from keras.callbacks import EarlyStopping, TensorBoard, ReduceLROnPlateau\n",
        "from sklearn.metrics import classification_report"
      ],
      "execution_count": null,
      "outputs": []
    },
    {
      "cell_type": "code",
      "metadata": {
        "colab": {
          "base_uri": "https://localhost:8080/",
          "height": 203
        },
        "id": "Ap70NY6LqXhJ",
        "outputId": "4a97f0de-231e-49ea-ff66-b2d77a742726"
      },
      "source": [
        "df = pd.read_csv('all-data.csv', delimiter=',', encoding='latin-1', names=['sentiment', 'text'])\n",
        "df.head()"
      ],
      "execution_count": null,
      "outputs": [
        {
          "output_type": "execute_result",
          "data": {
            "text/html": [
              "<div>\n",
              "<style scoped>\n",
              "    .dataframe tbody tr th:only-of-type {\n",
              "        vertical-align: middle;\n",
              "    }\n",
              "\n",
              "    .dataframe tbody tr th {\n",
              "        vertical-align: top;\n",
              "    }\n",
              "\n",
              "    .dataframe thead th {\n",
              "        text-align: right;\n",
              "    }\n",
              "</style>\n",
              "<table border=\"1\" class=\"dataframe\">\n",
              "  <thead>\n",
              "    <tr style=\"text-align: right;\">\n",
              "      <th></th>\n",
              "      <th>sentiment</th>\n",
              "      <th>text</th>\n",
              "    </tr>\n",
              "  </thead>\n",
              "  <tbody>\n",
              "    <tr>\n",
              "      <th>0</th>\n",
              "      <td>neutral</td>\n",
              "      <td>According to Gran , the company has no plans t...</td>\n",
              "    </tr>\n",
              "    <tr>\n",
              "      <th>1</th>\n",
              "      <td>neutral</td>\n",
              "      <td>Technopolis plans to develop in stages an area...</td>\n",
              "    </tr>\n",
              "    <tr>\n",
              "      <th>2</th>\n",
              "      <td>negative</td>\n",
              "      <td>The international electronic industry company ...</td>\n",
              "    </tr>\n",
              "    <tr>\n",
              "      <th>3</th>\n",
              "      <td>positive</td>\n",
              "      <td>With the new production plant the company woul...</td>\n",
              "    </tr>\n",
              "    <tr>\n",
              "      <th>4</th>\n",
              "      <td>positive</td>\n",
              "      <td>According to the company 's updated strategy f...</td>\n",
              "    </tr>\n",
              "  </tbody>\n",
              "</table>\n",
              "</div>"
            ],
            "text/plain": [
              "  sentiment                                               text\n",
              "0   neutral  According to Gran , the company has no plans t...\n",
              "1   neutral  Technopolis plans to develop in stages an area...\n",
              "2  negative  The international electronic industry company ...\n",
              "3  positive  With the new production plant the company woul...\n",
              "4  positive  According to the company 's updated strategy f..."
            ]
          },
          "metadata": {
            "tags": []
          },
          "execution_count": 2
        }
      ]
    },
    {
      "cell_type": "code",
      "metadata": {
        "colab": {
          "base_uri": "https://localhost:8080/"
        },
        "id": "pWS8nSVirnos",
        "outputId": "ea6d3bed-143a-40d2-de46-547998b1666d"
      },
      "source": [
        "class_distribution = df['sentiment'].value_counts(normalize=True)\n",
        "class_distribution"
      ],
      "execution_count": null,
      "outputs": [
        {
          "output_type": "execute_result",
          "data": {
            "text/plain": [
              "neutral     0.594098\n",
              "positive    0.281263\n",
              "negative    0.124639\n",
              "Name: sentiment, dtype: float64"
            ]
          },
          "metadata": {
            "tags": []
          },
          "execution_count": 3
        }
      ]
    },
    {
      "cell_type": "code",
      "metadata": {
        "colab": {
          "base_uri": "https://localhost:8080/",
          "height": 297
        },
        "id": "cwLlRXVRrsWQ",
        "outputId": "273f79ab-01fe-4d2f-91b9-6d9b5eeb2cc4"
      },
      "source": [
        "labels = class_distribution.index\n",
        "values = class_distribution.values\n",
        "plt.pie(values, labels=labels, startangle=90, autopct='%1.1f%%')\n",
        "plt.title('Distribution of Classes')\n",
        "plt.tight_layout()\n",
        "plt.show()"
      ],
      "execution_count": null,
      "outputs": [
        {
          "output_type": "display_data",
          "data": {
            "image/png": "[encoded data removed]",
            "text/plain": [
              "<Figure size 432x288 with 1 Axes>"
            ]
          },
          "metadata": {
            "tags": []
          }
        }
      ]
    },
    {
      "cell_type": "code",
      "metadata": {
        "colab": {
          "base_uri": "https://localhost:8080/",
          "height": 254
        },
        "id": "sE0UeA3PqbE_",
        "outputId": "353c7a58-9856-4f35-b4f2-79917cf12707"
      },
      "source": [
        "text = \" \".join([x for x in df.text])\n",
        "\n",
        "wordcloud = WordCloud(background_color='white').generate(text)\n",
        "\n",
        "plt.figure(figsize=(8,6))\n",
        "plt.imshow(wordcloud,interpolation='bilinear')\n",
        "plt.axis('off')\n",
        "plt.show()"
      ],
      "execution_count": null,
      "outputs": [
        {
          "output_type": "display_data",
          "data": {
            "image/png": "[encoded data removed]",
            "text/plain": [
              "<Figure size 576x432 with 1 Axes>"
            ]
          },
          "metadata": {
            "tags": [],
            "needs_background": "light"
          }
        }
      ]
    },
    {
      "cell_type": "markdown",
      "metadata": {
        "id": "D499hpSjs4aH"
      },
      "source": [
        "## Data preprocessing"
      ]
    },
    {
      "cell_type": "code",
      "metadata": {
        "colab": {
          "base_uri": "https://localhost:8080/"
        },
        "id": "CauHumgVqwZh",
        "outputId": "75297a32-9e5b-4108-b8c6-51175a7ba274"
      },
      "source": [
        "nltk.download('stopwords')\n",
        "nltk.download('punkt')\n",
        "nltk.download('averaged_perceptron_tagger')\n",
        "nltk.download('wordnet')"
      ],
      "execution_count": null,
      "outputs": [
        {
          "output_type": "stream",
          "text": [
            "[nltk_data] Downloading package stopwords to /root/nltk_data...\n",
            "[nltk_data]   Package stopwords is already up-to-date!\n",
            "[nltk_data] Downloading package punkt to /root/nltk_data...\n",
            "[nltk_data]   Package punkt is already up-to-date!\n",
            "[nltk_data] Downloading package averaged_perceptron_tagger to\n",
            "[nltk_data]     /root/nltk_data...\n",
            "[nltk_data]   Package averaged_perceptron_tagger is already up-to-\n",
            "[nltk_data]       date!\n",
            "[nltk_data] Downloading package wordnet to /root/nltk_data...\n",
            "[nltk_data]   Package wordnet is already up-to-date!\n"
          ],
          "name": "stdout"
        },
        {
          "output_type": "execute_result",
          "data": {
            "text/plain": [
              "True"
            ]
          },
          "metadata": {
            "tags": []
          },
          "execution_count": 6
        }
      ]
    },
    {
      "cell_type": "markdown",
      "metadata": {
        "id": "8usZuYCLlRq5"
      },
      "source": [
        "Remove punctuation\n"
      ]
    },
    {
      "cell_type": "code",
      "metadata": {
        "id": "vd6NW9mMhUdX"
      },
      "source": [
        "def rem_punc(t):\n",
        "    # define punctuation\n",
        "    punctuations = '''!()-[]{};:'\"\\,<>./?@#$%^&*_~1234567890'''\n",
        "\n",
        "    # remove punctuation from the string\n",
        "    for c in punctuations:\n",
        "        t=t.replace(c,' ')\n",
        "\n",
        "    # display the unpunctuated string\n",
        "    return t.replace('\\n',' ')\n",
        "\n",
        "df['punct'] = df['text'].apply(lambda x: rem_punc(x))"
      ],
      "execution_count": null,
      "outputs": []
    },
    {
      "cell_type": "markdown",
      "metadata": {
        "id": "HXdBBgpAlXil"
      },
      "source": [
        "Lowercase"
      ]
    },
    {
      "cell_type": "code",
      "metadata": {
        "id": "e_ve1oBKjaP6"
      },
      "source": [
        "df['lowercase'] = df['punct'].apply(lambda x: x.lower())"
      ],
      "execution_count": null,
      "outputs": []
    },
    {
      "cell_type": "markdown",
      "metadata": {
        "id": "nmyuUGfwp70u"
      },
      "source": [
        "Tokenization"
      ]
    },
    {
      "cell_type": "code",
      "metadata": {
        "id": "lo_Vg_lRpzET"
      },
      "source": [
        "df['tokenized'] = df['lowercase'].apply(lambda x: word_tokenize(x))"
      ],
      "execution_count": null,
      "outputs": []
    },
    {
      "cell_type": "markdown",
      "metadata": {
        "id": "tFb38MyvlgZh"
      },
      "source": [
        "Remove stopwords"
      ]
    },
    {
      "cell_type": "code",
      "metadata": {
        "id": "SxWmGw1Nlivl"
      },
      "source": [
        "sw = stopwords.words('english')\n",
        "\n",
        "def remove_stopwords(text):\n",
        "    text = [word for word in text if word not in sw]\n",
        "    return text\n",
        "df['nonsw'] = df['tokenized'].apply(lambda x: remove_stopwords(x))"
      ],
      "execution_count": null,
      "outputs": []
    },
    {
      "cell_type": "markdown",
      "metadata": {
        "id": "D8FIx2WPmLro"
      },
      "source": [
        "Lemmatization"
      ]
    },
    {
      "cell_type": "code",
      "metadata": {
        "id": "WV-brsmOmJ4O"
      },
      "source": [
        "def get_wordnet_pos(nltk_tag):\n",
        "    if nltk_tag.startswith('J'):\n",
        "        return wordnet.ADJ\n",
        "    elif nltk_tag.startswith('V'):\n",
        "        return wordnet.VERB\n",
        "    elif nltk_tag.startswith('N'):\n",
        "        return wordnet.NOUN\n",
        "    elif nltk_tag.startswith('R'):\n",
        "        return wordnet.ADV\n",
        "    else:          \n",
        "        return None"
      ],
      "execution_count": null,
      "outputs": []
    },
    {
      "cell_type": "code",
      "metadata": {
        "id": "kenNzZ0MmOLH"
      },
      "source": [
        "lemmatizer = WordNetLemmatizer()\n",
        "\n",
        "def lemmatize_sentence(t):\n",
        "    nltk_tagged = nltk.pos_tag(t)\n",
        "    wordnet_tagged = map(lambda x: (x[0], get_wordnet_pos(x[1])), nltk_tagged)\n",
        "    lemma = []\n",
        "    for word, tag in wordnet_tagged:\n",
        "        if tag is None:\n",
        "            lemma.append(word)\n",
        "        else:        \n",
        "            lemma.append(lemmatizer.lemmatize(word, tag))\n",
        "    return lemma\n",
        "\n",
        "df['lemmed'] = df['nonsw'].apply(lambda x: lemmatize_sentence(x))"
      ],
      "execution_count": null,
      "outputs": []
    },
    {
      "cell_type": "code",
      "metadata": {
        "colab": {
          "base_uri": "https://localhost:8080/",
          "height": 371
        },
        "id": "L7Hiwu2jiDns",
        "outputId": "bc7e3580-9c18-40ac-f424-765bcf3844c0"
      },
      "source": [
        "df.head()"
      ],
      "execution_count": null,
      "outputs": [
        {
          "output_type": "execute_result",
          "data": {
            "text/html": [
              "<div>\n",
              "<style scoped>\n",
              "    .dataframe tbody tr th:only-of-type {\n",
              "        vertical-align: middle;\n",
              "    }\n",
              "\n",
              "    .dataframe tbody tr th {\n",
              "        vertical-align: top;\n",
              "    }\n",
              "\n",
              "    .dataframe thead th {\n",
              "        text-align: right;\n",
              "    }\n",
              "</style>\n",
              "<table border=\"1\" class=\"dataframe\">\n",
              "  <thead>\n",
              "    <tr style=\"text-align: right;\">\n",
              "      <th></th>\n",
              "      <th>sentiment</th>\n",
              "      <th>text</th>\n",
              "      <th>punct</th>\n",
              "      <th>lowercase</th>\n",
              "      <th>tokenized</th>\n",
              "      <th>nonsw</th>\n",
              "      <th>lemmed</th>\n",
              "    </tr>\n",
              "  </thead>\n",
              "  <tbody>\n",
              "    <tr>\n",
              "      <th>0</th>\n",
              "      <td>neutral</td>\n",
              "      <td>According to Gran , the company has no plans t...</td>\n",
              "      <td>According to Gran   the company has no plans t...</td>\n",
              "      <td>according to gran   the company has no plans t...</td>\n",
              "      <td>[according, to, gran, the, company, has, no, p...</td>\n",
              "      <td>[according, gran, company, plans, move, produc...</td>\n",
              "      <td>[accord, gran, company, plan, move, production...</td>\n",
              "    </tr>\n",
              "    <tr>\n",
              "      <th>1</th>\n",
              "      <td>neutral</td>\n",
              "      <td>Technopolis plans to develop in stages an area...</td>\n",
              "      <td>Technopolis plans to develop in stages an area...</td>\n",
              "      <td>technopolis plans to develop in stages an area...</td>\n",
              "      <td>[technopolis, plans, to, develop, in, stages, ...</td>\n",
              "      <td>[technopolis, plans, develop, stages, area, le...</td>\n",
              "      <td>[technopolis, plan, develop, stage, area, less...</td>\n",
              "    </tr>\n",
              "    <tr>\n",
              "      <th>2</th>\n",
              "      <td>negative</td>\n",
              "      <td>The international electronic industry company ...</td>\n",
              "      <td>The international electronic industry company ...</td>\n",
              "      <td>the international electronic industry company ...</td>\n",
              "      <td>[the, international, electronic, industry, com...</td>\n",
              "      <td>[international, electronic, industry, company,...</td>\n",
              "      <td>[international, electronic, industry, company,...</td>\n",
              "    </tr>\n",
              "    <tr>\n",
              "      <th>3</th>\n",
              "      <td>positive</td>\n",
              "      <td>With the new production plant the company woul...</td>\n",
              "      <td>With the new production plant the company woul...</td>\n",
              "      <td>with the new production plant the company woul...</td>\n",
              "      <td>[with, the, new, production, plant, the, compa...</td>\n",
              "      <td>[new, production, plant, company, would, incre...</td>\n",
              "      <td>[new, production, plant, company, would, incre...</td>\n",
              "    </tr>\n",
              "    <tr>\n",
              "      <th>4</th>\n",
              "      <td>positive</td>\n",
              "      <td>According to the company 's updated strategy f...</td>\n",
              "      <td>According to the company  s updated strategy f...</td>\n",
              "      <td>according to the company  s updated strategy f...</td>\n",
              "      <td>[according, to, the, company, s, updated, stra...</td>\n",
              "      <td>[according, company, updated, strategy, years,...</td>\n",
              "      <td>[accord, company, update, strategy, year, basw...</td>\n",
              "    </tr>\n",
              "  </tbody>\n",
              "</table>\n",
              "</div>"
            ],
            "text/plain": [
              "  sentiment  ...                                             lemmed\n",
              "0   neutral  ...  [accord, gran, company, plan, move, production...\n",
              "1   neutral  ...  [technopolis, plan, develop, stage, area, less...\n",
              "2  negative  ...  [international, electronic, industry, company,...\n",
              "3  positive  ...  [new, production, plant, company, would, incre...\n",
              "4  positive  ...  [accord, company, update, strategy, year, basw...\n",
              "\n",
              "[5 rows x 7 columns]"
            ]
          },
          "metadata": {
            "tags": []
          },
          "execution_count": 13
        }
      ]
    },
    {
      "cell_type": "code",
      "metadata": {
        "id": "wzaWAIr4p4cJ"
      },
      "source": [
        "#Convert sting to numeric\n",
        "sentiment  = {'positive': 0,'neutral': 1,'negative':2} \n",
        "\n",
        "df.sentiment = [sentiment[item] for item in df.sentiment] \n"
      ],
      "execution_count": null,
      "outputs": []
    },
    {
      "cell_type": "markdown",
      "metadata": {
        "id": "uCZvKyySsn0N"
      },
      "source": [
        "##Word embeddings Doc2vec\n"
      ]
    },
    {
      "cell_type": "code",
      "metadata": {
        "id": "WKQ5JNgTqs1q"
      },
      "source": [
        "data=pd.DataFrame({'text': df['lemmed'], 'sentiment': df['sentiment']})"
      ],
      "execution_count": null,
      "outputs": []
    },
    {
      "cell_type": "code",
      "metadata": {
        "id": "2Pr8DHp9sEiC"
      },
      "source": [
        "data_tagged = data.apply(lambda r: TaggedDocument(words=r['text'], tags=[r.sentiment]), axis=1)"
      ],
      "execution_count": null,
      "outputs": []
    },
    {
      "cell_type": "code",
      "metadata": {
        "colab": {
          "base_uri": "https://localhost:8080/"
        },
        "id": "FNFNdVH1rWt7",
        "outputId": "28f866e5-0bd0-49d3-9c17-7553c7864b8e"
      },
      "source": [
        "data_tagged.values"
      ],
      "execution_count": null,
      "outputs": [
        {
          "output_type": "execute_result",
          "data": {
            "text/plain": [
              "array([TaggedDocument(words=['accord', 'gran', 'company', 'plan', 'move', 'production', 'russia', 'although', 'company', 'grow'], tags=[1]),\n",
              "       TaggedDocument(words=['technopolis', 'plan', 'develop', 'stage', 'area', 'less', 'square', 'meter', 'order', 'host', 'company', 'work', 'computer', 'technology', 'telecommunications', 'statement', 'say'], tags=[1]),\n",
              "       TaggedDocument(words=['international', 'electronic', 'industry', 'company', 'elcoteq', 'laid', 'ten', 'employee', 'tallinn', 'facility', 'contrary', 'earlier', 'layoff', 'company', 'contract', 'rank', 'office', 'worker', 'daily', 'postimees', 'report'], tags=[2]),\n",
              "       ...,\n",
              "       TaggedDocument(words=['operating', 'profit', 'fell', 'eur', 'mn', 'eur', 'mn', 'include', 'vessel', 'sale', 'gain', 'eur', 'mn'], tags=[2]),\n",
              "       TaggedDocument(words=['net', 'sale', 'paper', 'segment', 'decrease', 'eur', 'mn', 'second', 'quarter', 'eur', 'mn', 'second', 'quarter', 'operate', 'profit', 'exclude', 'non', 'recur', 'item', 'rise', 'eur', 'mn', 'eur', 'mn'], tags=[2]),\n",
              "       TaggedDocument(words=['sale', 'finland', 'decreased', 'january', 'sale', 'outside', 'finland', 'drop'], tags=[2])],\n",
              "      dtype=object)"
            ]
          },
          "metadata": {
            "tags": []
          },
          "execution_count": 17
        }
      ]
    },
    {
      "cell_type": "code",
      "metadata": {
        "id": "DD-qTJdAiuqS"
      },
      "source": [
        "X=data.text\n",
        "Y=data.sentiment\n",
        "\n",
        "tokenizer = Tokenizer()\n",
        "tokenizer.fit_on_texts(X)\n",
        "encoded_docs = tokenizer.texts_to_sequences(X)\n",
        "max_length = max([len(s) for s in X])\n",
        "x = pad_sequences(encoded_docs, maxlen=max_length, padding='post')\n",
        "\n",
        "y = to_categorical(Y) # one hot encoding"
      ],
      "execution_count": null,
      "outputs": []
    },
    {
      "cell_type": "code",
      "metadata": {
        "id": "SRh7HjmmM6Ch",
        "colab": {
          "base_uri": "https://localhost:8080/"
        },
        "outputId": "47ec7f1c-b698-416b-8b76-82168389a5b2"
      },
      "source": [
        "d2v_model = Doc2Vec(dm=1, dm_mean=1, size=20, window=8, min_count=1, workers=1, alpha=0.065, min_alpha=0.065)\n",
        "d2v_model.build_vocab([x for x in data_tagged.values])\n"
      ],
      "execution_count": null,
      "outputs": [
        {
          "output_type": "stream",
          "text": [
            "/usr/local/lib/python3.7/dist-packages/gensim/models/doc2vec.py:570: UserWarning: The parameter `size` is deprecated, will be removed in 4.0.0, use `vector_size` instead.\n",
            "  warnings.warn(\"The parameter `size` is deprecated, will be removed in 4.0.0, use `vector_size` instead.\")\n"
          ],
          "name": "stderr"
        }
      ]
    },
    {
      "cell_type": "code",
      "metadata": {
        "id": "LD8CEyZ5sSYX"
      },
      "source": [
        "for epoch in range(30):\n",
        "    d2v_model.train(utils.shuffle([x for x in data_tagged.values]), total_examples=len(data_tagged.values), epochs=1)\n",
        "    d2v_model.alpha -= 0.002\n",
        "    d2v_model.min_alpha = d2v_model.alpha"
      ],
      "execution_count": null,
      "outputs": []
    },
    {
      "cell_type": "code",
      "metadata": {
        "id": "tMCwzky_s1zf"
      },
      "source": [
        "# save the vectors in a new matrix\n",
        "embedding_matrix = np.zeros((len(d2v_model.wv.vocab)+ 1, 20))\n",
        "\n",
        "for i, vec in enumerate(d2v_model.docvecs.vectors_docs):\n",
        "    while i in vec <= 1000:\n",
        "          embedding_matrix[i]=vec\n"
      ],
      "execution_count": null,
      "outputs": []
    },
    {
      "cell_type": "code",
      "metadata": {
        "colab": {
          "base_uri": "https://localhost:8080/"
        },
        "id": "hbBGtM3sxVRS",
        "outputId": "4a033e11-99bb-4759-e4c2-8631b9388c75"
      },
      "source": [
        "d2v_model.wv.most_similar(positive=\"business\")"
      ],
      "execution_count": null,
      "outputs": [
        {
          "output_type": "execute_result",
          "data": {
            "text/plain": [
              "[('edible', 0.7561734914779663),\n",
              " ('rigid', 0.7437518835067749),\n",
              " ('marubeni', 0.7139172554016113),\n",
              " ('middle', 0.6936863660812378),\n",
              " ('maruy', 0.6858460903167725),\n",
              " ('dartford', 0.6844229698181152),\n",
              " ('smarket', 0.6821991205215454),\n",
              " ('sandberg', 0.6821551322937012),\n",
              " ('adr', 0.6820173263549805),\n",
              " ('streamline', 0.6808281540870667)]"
            ]
          },
          "metadata": {
            "tags": []
          },
          "execution_count": 22
        }
      ]
    },
    {
      "cell_type": "code",
      "metadata": {
        "id": "8ETcE_j3tzr9"
      },
      "source": [
        "# splitting data\n",
        "x_train,x_test,y_train,y_test = train_test_split(x, y, stratify=y, test_size = 0.2 , random_state = 0)"
      ],
      "execution_count": null,
      "outputs": []
    },
    {
      "cell_type": "markdown",
      "metadata": {
        "id": "S5QoBUkFUOHy"
      },
      "source": [
        "## CNN"
      ]
    },
    {
      "cell_type": "code",
      "metadata": {
        "colab": {
          "base_uri": "https://localhost:8080/"
        },
        "id": "MTyck9XCvsU6",
        "outputId": "3e76d2b6-ab0e-4170-9909-fb045d261baf"
      },
      "source": [
        "model = Sequential()\n",
        "model.add(Embedding(len(d2v_model.wv.vocab)+1,20,input_length=x.shape[1],weights=[embedding_matrix],trainable=True))\n",
        "model.add(Conv1D(filters=128, kernel_size=5, activation='relu'))\n",
        "model.add(MaxPooling1D(pool_size=2))\n",
        "model.add(Flatten())\n",
        "model.add(Dense(3, activation='softmax'))\n",
        "print(model.summary())"
      ],
      "execution_count": null,
      "outputs": [
        {
          "output_type": "stream",
          "text": [
            "Model: \"sequential_3\"\n",
            "_________________________________________________________________\n",
            "Layer (type)                 Output Shape              Param #   \n",
            "=================================================================\n",
            "embedding_3 (Embedding)      (None, 41, 20)            150560    \n",
            "_________________________________________________________________\n",
            "conv1d_1 (Conv1D)            (None, 37, 128)           12928     \n",
            "_________________________________________________________________\n",
            "max_pooling1d_1 (MaxPooling1 (None, 18, 128)           0         \n",
            "_________________________________________________________________\n",
            "flatten_1 (Flatten)          (None, 2304)              0         \n",
            "_________________________________________________________________\n",
            "dense_3 (Dense)              (None, 3)                 6915      \n",
            "=================================================================\n",
            "Total params: 170,403\n",
            "Trainable params: 170,403\n",
            "Non-trainable params: 0\n",
            "_________________________________________________________________\n",
            "None\n"
          ],
          "name": "stdout"
        }
      ]
    },
    {
      "cell_type": "code",
      "metadata": {
        "id": "TvbHoR79v1A3"
      },
      "source": [
        "early_stopping = EarlyStopping(\n",
        "    monitor='loss',\n",
        "    patience=3,\n",
        "    verbose=1,\n",
        "    restore_best_weights=True)\n",
        "\n",
        "\n",
        "reduce_lr = ReduceLROnPlateau(\n",
        "    monitor='loss',\n",
        "    factor=0.5,\n",
        "    patience=1,\n",
        "    verbose=1)\n",
        "\n",
        "\n",
        "callbacks = [ reduce_lr, early_stopping]"
      ],
      "execution_count": null,
      "outputs": []
    },
    {
      "cell_type": "code",
      "metadata": {
        "colab": {
          "base_uri": "https://localhost:8080/"
        },
        "id": "KHNa1Q6LzRQU",
        "outputId": "4d1902b5-fafb-4707-83c2-67c3353acdae"
      },
      "source": [
        "model.compile(loss='binary_crossentropy', optimizer='adam', metrics=['accuracy'])\n",
        "# fit network\n",
        "model.fit(x_train, y_train, epochs=50, batch_size=32, verbose=2, callbacks=callbacks)"
      ],
      "execution_count": null,
      "outputs": [
        {
          "output_type": "stream",
          "text": [
            "Epoch 1/50\n",
            "122/122 - 2s - loss: 0.6812 - accuracy: 0.5911\n",
            "Epoch 2/50\n",
            "122/122 - 1s - loss: 0.6594 - accuracy: 0.5942\n",
            "Epoch 3/50\n",
            "122/122 - 1s - loss: 0.6410 - accuracy: 0.5942\n",
            "Epoch 4/50\n",
            "122/122 - 1s - loss: 0.6255 - accuracy: 0.5942\n",
            "Epoch 5/50\n",
            "122/122 - 1s - loss: 0.6127 - accuracy: 0.5942\n",
            "Epoch 6/50\n",
            "122/122 - 1s - loss: 0.6019 - accuracy: 0.5942\n",
            "Epoch 7/50\n",
            "122/122 - 1s - loss: 0.5929 - accuracy: 0.5942\n",
            "Epoch 8/50\n",
            "122/122 - 1s - loss: 0.5855 - accuracy: 0.5942\n",
            "Epoch 9/50\n",
            "122/122 - 1s - loss: 0.5793 - accuracy: 0.5942\n",
            "Epoch 10/50\n",
            "122/122 - 1s - loss: 0.5740 - accuracy: 0.5942\n",
            "Epoch 11/50\n",
            "122/122 - 1s - loss: 0.5698 - accuracy: 0.5942\n",
            "Epoch 12/50\n",
            "122/122 - 1s - loss: 0.5661 - accuracy: 0.5942\n",
            "Epoch 13/50\n",
            "122/122 - 1s - loss: 0.5631 - accuracy: 0.5942\n",
            "Epoch 14/50\n",
            "122/122 - 1s - loss: 0.5605 - accuracy: 0.5942\n",
            "Epoch 15/50\n",
            "122/122 - 1s - loss: 0.5584 - accuracy: 0.5942\n",
            "Epoch 16/50\n",
            "122/122 - 1s - loss: 0.5566 - accuracy: 0.5942\n",
            "Epoch 17/50\n",
            "122/122 - 1s - loss: 0.5551 - accuracy: 0.5942\n",
            "Epoch 18/50\n",
            "122/122 - 1s - loss: 0.5539 - accuracy: 0.5942\n",
            "Epoch 19/50\n",
            "122/122 - 1s - loss: 0.5529 - accuracy: 0.5942\n",
            "Epoch 20/50\n",
            "122/122 - 1s - loss: 0.5520 - accuracy: 0.5942\n",
            "Epoch 21/50\n",
            "122/122 - 1s - loss: 0.5513 - accuracy: 0.5942\n",
            "Epoch 22/50\n",
            "122/122 - 1s - loss: 0.5507 - accuracy: 0.5942\n",
            "Epoch 23/50\n",
            "122/122 - 1s - loss: 0.5503 - accuracy: 0.5942\n",
            "Epoch 24/50\n",
            "122/122 - 1s - loss: 0.5499 - accuracy: 0.5942\n",
            "Epoch 25/50\n",
            "122/122 - 1s - loss: 0.5496 - accuracy: 0.5942\n",
            "Epoch 26/50\n",
            "122/122 - 1s - loss: 0.5494 - accuracy: 0.5942\n",
            "Epoch 27/50\n",
            "122/122 - 1s - loss: 0.5492 - accuracy: 0.5942\n",
            "Epoch 28/50\n",
            "122/122 - 1s - loss: 0.5490 - accuracy: 0.5942\n",
            "Epoch 29/50\n",
            "122/122 - 1s - loss: 0.5489 - accuracy: 0.5942\n",
            "Epoch 30/50\n",
            "122/122 - 1s - loss: 0.5488 - accuracy: 0.5942\n",
            "\n",
            "Epoch 00030: ReduceLROnPlateau reducing learning rate to 0.0005000000237487257.\n",
            "Epoch 31/50\n",
            "122/122 - 1s - loss: 0.5487 - accuracy: 0.5942\n",
            "Epoch 32/50\n",
            "122/122 - 1s - loss: 0.5487 - accuracy: 0.5942\n",
            "\n",
            "Epoch 00032: ReduceLROnPlateau reducing learning rate to 0.0002500000118743628.\n",
            "Epoch 33/50\n",
            "122/122 - 1s - loss: 0.5487 - accuracy: 0.5942\n",
            "\n",
            "Epoch 00033: ReduceLROnPlateau reducing learning rate to 0.0001250000059371814.\n",
            "Epoch 34/50\n",
            "122/122 - 1s - loss: 0.5486 - accuracy: 0.5942\n",
            "\n",
            "Epoch 00034: ReduceLROnPlateau reducing learning rate to 6.25000029685907e-05.\n",
            "Epoch 35/50\n",
            "122/122 - 1s - loss: 0.5486 - accuracy: 0.5942\n",
            "\n",
            "Epoch 00035: ReduceLROnPlateau reducing learning rate to 3.125000148429535e-05.\n",
            "Epoch 36/50\n",
            "122/122 - 1s - loss: 0.5486 - accuracy: 0.5942\n",
            "\n",
            "Epoch 00036: ReduceLROnPlateau reducing learning rate to 1.5625000742147677e-05.\n",
            "Epoch 37/50\n",
            "122/122 - 1s - loss: 0.5486 - accuracy: 0.5942\n",
            "\n",
            "Epoch 00037: ReduceLROnPlateau reducing learning rate to 7.812500371073838e-06.\n",
            "Epoch 38/50\n",
            "122/122 - 1s - loss: 0.5486 - accuracy: 0.5942\n",
            "\n",
            "Epoch 00038: ReduceLROnPlateau reducing learning rate to 3.906250185536919e-06.\n",
            "Epoch 39/50\n",
            "122/122 - 1s - loss: 0.5486 - accuracy: 0.5942\n",
            "\n",
            "Epoch 00039: ReduceLROnPlateau reducing learning rate to 1.9531250927684596e-06.\n",
            "Epoch 40/50\n",
            "122/122 - 1s - loss: 0.5486 - accuracy: 0.5942\n",
            "\n",
            "Epoch 00040: ReduceLROnPlateau reducing learning rate to 9.765625463842298e-07.\n",
            "Epoch 41/50\n",
            "122/122 - 1s - loss: 0.5486 - accuracy: 0.5942\n",
            "\n",
            "Epoch 00041: ReduceLROnPlateau reducing learning rate to 4.882812731921149e-07.\n",
            "Epoch 42/50\n",
            "122/122 - 1s - loss: 0.5486 - accuracy: 0.5942\n",
            "\n",
            "Epoch 00042: ReduceLROnPlateau reducing learning rate to 2.4414063659605745e-07.\n",
            "Epoch 43/50\n",
            "122/122 - 1s - loss: 0.5486 - accuracy: 0.5942\n",
            "\n",
            "Epoch 00043: ReduceLROnPlateau reducing learning rate to 1.2207031829802872e-07.\n",
            "Epoch 44/50\n",
            "122/122 - 1s - loss: 0.5486 - accuracy: 0.5942\n",
            "\n",
            "Epoch 00044: ReduceLROnPlateau reducing learning rate to 6.103515914901436e-08.\n",
            "Epoch 45/50\n",
            "122/122 - 1s - loss: 0.5486 - accuracy: 0.5942\n",
            "\n",
            "Epoch 00045: ReduceLROnPlateau reducing learning rate to 3.051757957450718e-08.\n",
            "Epoch 46/50\n",
            "122/122 - 1s - loss: 0.5486 - accuracy: 0.5942\n",
            "\n",
            "Epoch 00046: ReduceLROnPlateau reducing learning rate to 1.525878978725359e-08.\n",
            "Restoring model weights from the end of the best epoch.\n",
            "Epoch 00046: early stopping\n"
          ],
          "name": "stdout"
        },
        {
          "output_type": "execute_result",
          "data": {
            "text/plain": [
              "<keras.callbacks.History at 0x7fc252c3a410>"
            ]
          },
          "metadata": {
            "tags": []
          },
          "execution_count": 36
        }
      ]
    },
    {
      "cell_type": "code",
      "metadata": {
        "colab": {
          "base_uri": "https://localhost:8080/"
        },
        "id": "Xw8stvr_zxlQ",
        "outputId": "0533b37a-f9ea-4f0e-adb4-286d3302941d"
      },
      "source": [
        "y_predict=model.predict(x_test)\n",
        "y_predict=np.argmax(y_predict, axis=1)\n",
        "y_test=np.argmax(y_test, axis=1)\n",
        "print(classification_report(y_test, y_predict))"
      ],
      "execution_count": null,
      "outputs": [
        {
          "output_type": "stream",
          "text": [
            "              precision    recall  f1-score   support\n",
            "\n",
            "           0       0.00      0.00      0.00       273\n",
            "           1       0.59      1.00      0.75       576\n",
            "           2       0.00      0.00      0.00       121\n",
            "\n",
            "    accuracy                           0.59       970\n",
            "   macro avg       0.20      0.33      0.25       970\n",
            "weighted avg       0.35      0.59      0.44       970\n",
            "\n"
          ],
          "name": "stdout"
        },
        {
          "output_type": "stream",
          "text": [
            "/usr/local/lib/python3.7/dist-packages/sklearn/metrics/_classification.py:1272: UndefinedMetricWarning: Precision and F-score are ill-defined and being set to 0.0 in labels with no predicted samples. Use `zero_division` parameter to control this behavior.\n",
            "  _warn_prf(average, modifier, msg_start, len(result))\n"
          ],
          "name": "stderr"
        }
      ]
    },
    {
      "cell_type": "markdown",
      "metadata": {
        "id": "J1QKhS42vZMi"
      },
      "source": [
        "## LSTM"
      ]
    },
    {
      "cell_type": "code",
      "metadata": {
        "colab": {
          "base_uri": "https://localhost:8080/"
        },
        "id": "T1YeVEWJtkVk",
        "outputId": "033b4373-0502-4774-ca66-66ca842f954d"
      },
      "source": [
        "# init layer\n",
        "model = Sequential()\n",
        "\n",
        "# emmbed word vectors\n",
        "model.add(Embedding(len(d2v_model.wv.vocab)+1,20,input_length=x.shape[1],weights=[embedding_matrix],trainable=True))\n",
        "\n",
        "# learn the correlations\n",
        "def split_input(sequence):\n",
        "     return sequence[:-1], tf.reshape(sequence[1:], (-1,1))\n",
        "model.add(LSTM(50,return_sequences=False))\n",
        "model.add(Dense(3,activation=\"softmax\"))\n",
        "\n",
        "# output model skeleton\n",
        "model.summary()\n",
        "model.compile(optimizer=\"adam\",loss=\"binary_crossentropy\",metrics=['acc'])"
      ],
      "execution_count": null,
      "outputs": [
        {
          "output_type": "stream",
          "text": [
            "Model: \"sequential_2\"\n",
            "_________________________________________________________________\n",
            "Layer (type)                 Output Shape              Param #   \n",
            "=================================================================\n",
            "embedding_2 (Embedding)      (None, 41, 20)            150560    \n",
            "_________________________________________________________________\n",
            "lstm_1 (LSTM)                (None, 50)                14200     \n",
            "_________________________________________________________________\n",
            "dense_2 (Dense)              (None, 3)                 153       \n",
            "=================================================================\n",
            "Total params: 164,913\n",
            "Trainable params: 164,913\n",
            "Non-trainable params: 0\n",
            "_________________________________________________________________\n"
          ],
          "name": "stdout"
        }
      ]
    },
    {
      "cell_type": "code",
      "metadata": {
        "colab": {
          "base_uri": "https://localhost:8080/"
        },
        "id": "lFlMGX3_yZMY",
        "outputId": "5010c2dc-fe58-42d5-aaa3-d1033687c59d"
      },
      "source": [
        "history=model.fit(x_train, y_train, epochs =50, batch_size=32, verbose = 2)"
      ],
      "execution_count": null,
      "outputs": [
        {
          "output_type": "stream",
          "text": [
            "Epoch 1/50\n",
            "122/122 - 5s - loss: 0.5632 - acc: 0.5921\n",
            "Epoch 2/50\n",
            "122/122 - 3s - loss: 0.4521 - acc: 0.6723\n",
            "Epoch 3/50\n",
            "122/122 - 3s - loss: 0.3344 - acc: 0.7776\n",
            "Epoch 4/50\n",
            "122/122 - 3s - loss: 0.2858 - acc: 0.8096\n",
            "Epoch 5/50\n",
            "122/122 - 3s - loss: 0.2596 - acc: 0.8313\n",
            "Epoch 6/50\n",
            "122/122 - 3s - loss: 0.2386 - acc: 0.8416\n",
            "Epoch 7/50\n",
            "122/122 - 3s - loss: 0.2309 - acc: 0.8475\n",
            "Epoch 8/50\n",
            "122/122 - 3s - loss: 0.2195 - acc: 0.8537\n",
            "Epoch 9/50\n",
            "122/122 - 3s - loss: 0.2171 - acc: 0.8566\n",
            "Epoch 10/50\n",
            "122/122 - 3s - loss: 0.2089 - acc: 0.8617\n",
            "Epoch 11/50\n",
            "122/122 - 3s - loss: 0.1905 - acc: 0.8751\n",
            "Epoch 12/50\n",
            "122/122 - 3s - loss: 0.1581 - acc: 0.9203\n",
            "Epoch 13/50\n",
            "122/122 - 3s - loss: 0.1649 - acc: 0.9254\n",
            "Epoch 14/50\n",
            "122/122 - 3s - loss: 0.1052 - acc: 0.9551\n",
            "Epoch 15/50\n",
            "122/122 - 3s - loss: 0.0945 - acc: 0.9567\n",
            "Epoch 16/50\n",
            "122/122 - 3s - loss: 0.0900 - acc: 0.9579\n",
            "Epoch 17/50\n",
            "122/122 - 3s - loss: 0.0659 - acc: 0.9711\n",
            "Epoch 18/50\n",
            "122/122 - 3s - loss: 0.0567 - acc: 0.9786\n",
            "Epoch 19/50\n",
            "122/122 - 3s - loss: 0.0548 - acc: 0.9770\n",
            "Epoch 20/50\n",
            "122/122 - 3s - loss: 0.0746 - acc: 0.9683\n",
            "Epoch 21/50\n",
            "122/122 - 3s - loss: 0.0517 - acc: 0.9804\n",
            "Epoch 22/50\n",
            "122/122 - 3s - loss: 0.0548 - acc: 0.9781\n",
            "Epoch 23/50\n",
            "122/122 - 3s - loss: 0.0509 - acc: 0.9807\n",
            "Epoch 24/50\n",
            "122/122 - 3s - loss: 0.0429 - acc: 0.9832\n",
            "Epoch 25/50\n",
            "122/122 - 3s - loss: 0.0502 - acc: 0.9783\n",
            "Epoch 26/50\n",
            "122/122 - 3s - loss: 0.0424 - acc: 0.9819\n",
            "Epoch 27/50\n",
            "122/122 - 3s - loss: 0.0414 - acc: 0.9827\n",
            "Epoch 28/50\n",
            "122/122 - 3s - loss: 0.0421 - acc: 0.9830\n",
            "Epoch 29/50\n",
            "122/122 - 3s - loss: 0.0447 - acc: 0.9809\n",
            "Epoch 30/50\n",
            "122/122 - 3s - loss: 0.0390 - acc: 0.9850\n",
            "Epoch 31/50\n",
            "122/122 - 3s - loss: 0.0477 - acc: 0.9786\n",
            "Epoch 32/50\n",
            "122/122 - 3s - loss: 0.0594 - acc: 0.9750\n",
            "Epoch 33/50\n",
            "122/122 - 3s - loss: 0.0439 - acc: 0.9819\n",
            "Epoch 34/50\n",
            "122/122 - 3s - loss: 0.0341 - acc: 0.9850\n",
            "Epoch 35/50\n",
            "122/122 - 3s - loss: 0.0514 - acc: 0.9765\n",
            "Epoch 36/50\n",
            "122/122 - 3s - loss: 0.0450 - acc: 0.9832\n",
            "Epoch 37/50\n",
            "122/122 - 3s - loss: 0.0351 - acc: 0.9856\n",
            "Epoch 38/50\n",
            "122/122 - 3s - loss: 0.0352 - acc: 0.9856\n",
            "Epoch 39/50\n",
            "122/122 - 3s - loss: 0.0353 - acc: 0.9843\n",
            "Epoch 40/50\n",
            "122/122 - 3s - loss: 0.0297 - acc: 0.9881\n",
            "Epoch 41/50\n",
            "122/122 - 3s - loss: 0.0304 - acc: 0.9871\n",
            "Epoch 42/50\n",
            "122/122 - 3s - loss: 0.0314 - acc: 0.9858\n",
            "Epoch 43/50\n",
            "122/122 - 3s - loss: 0.0467 - acc: 0.9830\n",
            "Epoch 44/50\n",
            "122/122 - 3s - loss: 0.0528 - acc: 0.9763\n",
            "Epoch 45/50\n",
            "122/122 - 3s - loss: 0.0357 - acc: 0.9856\n",
            "Epoch 46/50\n",
            "122/122 - 3s - loss: 0.0331 - acc: 0.9837\n",
            "Epoch 47/50\n",
            "122/122 - 3s - loss: 0.0281 - acc: 0.9868\n",
            "Epoch 48/50\n",
            "122/122 - 3s - loss: 0.0352 - acc: 0.9863\n",
            "Epoch 49/50\n",
            "122/122 - 3s - loss: 0.0333 - acc: 0.9850\n",
            "Epoch 50/50\n",
            "122/122 - 3s - loss: 0.0399 - acc: 0.9840\n"
          ],
          "name": "stdout"
        }
      ]
    },
    {
      "cell_type": "code",
      "metadata": {
        "colab": {
          "base_uri": "https://localhost:8080/"
        },
        "id": "CTwTAQT9zEHj",
        "outputId": "19bd8fd6-ec3e-4a44-e177-5052ecd25e6b"
      },
      "source": [
        "y_predict=model.predict(x_test)\n",
        "y_predict=np.argmax(y_predict, axis=1)\n",
        "#y_test=np.argmax(y_test, axis=1)\n",
        "print(classification_report(y_test, y_predict))"
      ],
      "execution_count": null,
      "outputs": [
        {
          "output_type": "stream",
          "text": [
            "              precision    recall  f1-score   support\n",
            "\n",
            "           0       0.60      0.55      0.57       273\n",
            "           1       0.78      0.81      0.79       576\n",
            "           2       0.53      0.54      0.53       121\n",
            "\n",
            "    accuracy                           0.70       970\n",
            "   macro avg       0.64      0.63      0.63       970\n",
            "weighted avg       0.70      0.70      0.70       970\n",
            "\n"
          ],
          "name": "stdout"
        }
      ]
    }
  ]
}
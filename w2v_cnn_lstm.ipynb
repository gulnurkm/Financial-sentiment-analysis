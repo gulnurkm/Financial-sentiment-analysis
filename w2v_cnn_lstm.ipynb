{
  "nbformat": 4,
  "nbformat_minor": 0,
  "metadata": {
    "colab": {
      "name": "w2v_cnn_lstm.ipynb",
      "provenance": [],
      "toc_visible": true
    },
    "kernelspec": {
      "display_name": "Python 3",
      "name": "python3"
    },
    "language_info": {
      "name": "python"
    }
  },
  "cells": [
    {
      "cell_type": "code",
      "metadata": {
        "id": "6I8L_LI5o0ro"
      },
      "source": [
        "import numpy as np\n",
        "import pandas as pd\n",
        "import matplotlib.pyplot as plt\n",
        "from wordcloud import WordCloud\n",
        "import nltk\n",
        "from string import punctuation\n",
        "from nltk.corpus import stopwords, wordnet\n",
        "from nltk import pos_tag\n",
        "from nltk.stem import WordNetLemmatizer\n",
        "from nltk.tokenize import word_tokenize\n",
        "from sklearn.preprocessing import LabelEncoder\n",
        "from sklearn.model_selection import train_test_split\n",
        "from sklearn import svm\n",
        "from gensim.models import Word2Vec\n",
        "from tensorflow.keras.utils import to_categorical\n",
        "from keras.preprocessing.text import Tokenizer\n",
        "from keras.preprocessing.sequence import pad_sequences\n",
        "from keras.models import Sequential\n",
        "from keras.layers import LSTM, Dense, Flatten, Embedding, Dropout,BatchNormalization\n",
        "from keras.layers.convolutional import Conv1D\n",
        "from keras.layers.convolutional import MaxPooling1D\n",
        "from keras.callbacks import EarlyStopping, TensorBoard, ReduceLROnPlateau\n",
        "from sklearn.metrics import classification_report"
      ],
      "execution_count": null,
      "outputs": []
    },
    {
      "cell_type": "code",
      "metadata": {
        "colab": {
          "base_uri": "https://localhost:8080/",
          "height": 203
        },
        "id": "Ap70NY6LqXhJ",
        "outputId": "f0b76bd5-471d-4cae-a0ba-be0ab62b9739"
      },
      "source": [
        "df = pd.read_csv('all-data.csv', delimiter=',', encoding='latin-1', names=['sentiment', 'text'])\n",
        "df.head()"
      ],
      "execution_count": null,
      "outputs": [
        {
          "output_type": "execute_result",
          "data": {
            "text/html": [
              "<div>\n",
              "<style scoped>\n",
              "    .dataframe tbody tr th:only-of-type {\n",
              "        vertical-align: middle;\n",
              "    }\n",
              "\n",
              "    .dataframe tbody tr th {\n",
              "        vertical-align: top;\n",
              "    }\n",
              "\n",
              "    .dataframe thead th {\n",
              "        text-align: right;\n",
              "    }\n",
              "</style>\n",
              "<table border=\"1\" class=\"dataframe\">\n",
              "  <thead>\n",
              "    <tr style=\"text-align: right;\">\n",
              "      <th></th>\n",
              "      <th>sentiment</th>\n",
              "      <th>text</th>\n",
              "    </tr>\n",
              "  </thead>\n",
              "  <tbody>\n",
              "    <tr>\n",
              "      <th>0</th>\n",
              "      <td>neutral</td>\n",
              "      <td>According to Gran , the company has no plans t...</td>\n",
              "    </tr>\n",
              "    <tr>\n",
              "      <th>1</th>\n",
              "      <td>neutral</td>\n",
              "      <td>Technopolis plans to develop in stages an area...</td>\n",
              "    </tr>\n",
              "    <tr>\n",
              "      <th>2</th>\n",
              "      <td>negative</td>\n",
              "      <td>The international electronic industry company ...</td>\n",
              "    </tr>\n",
              "    <tr>\n",
              "      <th>3</th>\n",
              "      <td>positive</td>\n",
              "      <td>With the new production plant the company woul...</td>\n",
              "    </tr>\n",
              "    <tr>\n",
              "      <th>4</th>\n",
              "      <td>positive</td>\n",
              "      <td>According to the company 's updated strategy f...</td>\n",
              "    </tr>\n",
              "  </tbody>\n",
              "</table>\n",
              "</div>"
            ],
            "text/plain": [
              "  sentiment                                               text\n",
              "0   neutral  According to Gran , the company has no plans t...\n",
              "1   neutral  Technopolis plans to develop in stages an area...\n",
              "2  negative  The international electronic industry company ...\n",
              "3  positive  With the new production plant the company woul...\n",
              "4  positive  According to the company 's updated strategy f..."
            ]
          },
          "metadata": {
            "tags": []
          },
          "execution_count": 2
        }
      ]
    },
    {
      "cell_type": "code",
      "metadata": {
        "colab": {
          "base_uri": "https://localhost:8080/"
        },
        "id": "pWS8nSVirnos",
        "outputId": "e01f0b6d-074c-4930-b59a-f614330fb164"
      },
      "source": [
        "class_distribution = df['sentiment'].value_counts(normalize=True)\n",
        "class_distribution"
      ],
      "execution_count": null,
      "outputs": [
        {
          "output_type": "execute_result",
          "data": {
            "text/plain": [
              "neutral     0.594098\n",
              "positive    0.281263\n",
              "negative    0.124639\n",
              "Name: sentiment, dtype: float64"
            ]
          },
          "metadata": {
            "tags": []
          },
          "execution_count": 3
        }
      ]
    },
    {
      "cell_type": "code",
      "metadata": {
        "colab": {
          "base_uri": "https://localhost:8080/",
          "height": 297
        },
        "id": "cwLlRXVRrsWQ",
        "outputId": "3f03835c-9f7f-4e43-b2b1-a1b139312ff1"
      },
      "source": [
        "labels = class_distribution.index\n",
        "values = class_distribution.values\n",
        "plt.pie(values, labels=labels, startangle=90, autopct='%1.1f%%')\n",
        "plt.title('Distribution of Classes')\n",
        "plt.tight_layout()\n",
        "plt.show()"
      ],
      "execution_count": null,
      "outputs": [
        {
          "output_type": "display_data",
          "data": {
            "image/png": "[encoded data removed]",
            "text/plain": [
              "<Figure size 432x288 with 1 Axes>"
            ]
          },
          "metadata": {
            "tags": []
          }
        }
      ]
    },
    {
      "cell_type": "code",
      "metadata": {
        "colab": {
          "base_uri": "https://localhost:8080/",
          "height": 254
        },
        "id": "sE0UeA3PqbE_",
        "outputId": "daa8eb74-f1d8-4151-cb76-38ef3fccc351"
      },
      "source": [
        "text = \" \".join([x for x in df.text])\n",
        "\n",
        "wordcloud = WordCloud(background_color='white').generate(text)\n",
        "\n",
        "plt.figure(figsize=(8,6))\n",
        "plt.imshow(wordcloud,interpolation='bilinear')\n",
        "plt.axis('off')\n",
        "plt.show()"
      ],
      "execution_count": null,
      "outputs": [
        {
          "output_type": "display_data",
          "data": {
            "image/png": "[encoded data removed]",
            "text/plain": [
              "<Figure size 576x432 with 1 Axes>"
            ]
          },
          "metadata": {
            "tags": [],
            "needs_background": "light"
          }
        }
      ]
    },
    {
      "cell_type": "markdown",
      "metadata": {
        "id": "D499hpSjs4aH"
      },
      "source": [
        "## Data preprocessing"
      ]
    },
    {
      "cell_type": "code",
      "metadata": {
        "colab": {
          "base_uri": "https://localhost:8080/"
        },
        "id": "CauHumgVqwZh",
        "outputId": "fa29caf3-098f-42f3-882b-7f712970652b"
      },
      "source": [
        "nltk.download('stopwords')\n",
        "nltk.download('punkt')\n",
        "nltk.download('averaged_perceptron_tagger')\n",
        "nltk.download('wordnet')"
      ],
      "execution_count": null,
      "outputs": [
        {
          "output_type": "stream",
          "text": [
            "[nltk_data] Downloading package stopwords to /root/nltk_data...\n",
            "[nltk_data]   Package stopwords is already up-to-date!\n",
            "[nltk_data] Downloading package punkt to /root/nltk_data...\n",
            "[nltk_data]   Package punkt is already up-to-date!\n",
            "[nltk_data] Downloading package averaged_perceptron_tagger to\n",
            "[nltk_data]     /root/nltk_data...\n",
            "[nltk_data]   Package averaged_perceptron_tagger is already up-to-\n",
            "[nltk_data]       date!\n",
            "[nltk_data] Downloading package wordnet to /root/nltk_data...\n",
            "[nltk_data]   Package wordnet is already up-to-date!\n"
          ],
          "name": "stdout"
        },
        {
          "output_type": "execute_result",
          "data": {
            "text/plain": [
              "True"
            ]
          },
          "metadata": {
            "tags": []
          },
          "execution_count": 6
        }
      ]
    },
    {
      "cell_type": "markdown",
      "metadata": {
        "id": "8usZuYCLlRq5"
      },
      "source": [
        "Remove punctuation\n"
      ]
    },
    {
      "cell_type": "code",
      "metadata": {
        "id": "vd6NW9mMhUdX"
      },
      "source": [
        "def rem_punc(t):\n",
        "    # define punctuation\n",
        "    punctuations = '''!()-[]{};:'\"\\,<>./?@#$%^&*_~1234567890'''\n",
        "\n",
        "    # remove punctuation from the string\n",
        "    for c in punctuations:\n",
        "        t=t.replace(c,' ')\n",
        "\n",
        "    # display the unpunctuated string\n",
        "    return t.replace('\\n',' ')\n",
        "\n",
        "df['punct'] = df['text'].apply(lambda x: rem_punc(x))"
      ],
      "execution_count": null,
      "outputs": []
    },
    {
      "cell_type": "markdown",
      "metadata": {
        "id": "HXdBBgpAlXil"
      },
      "source": [
        "Lowercase"
      ]
    },
    {
      "cell_type": "code",
      "metadata": {
        "id": "e_ve1oBKjaP6"
      },
      "source": [
        "df['lowercase'] = df['punct'].apply(lambda x: x.lower())"
      ],
      "execution_count": null,
      "outputs": []
    },
    {
      "cell_type": "markdown",
      "metadata": {
        "id": "nmyuUGfwp70u"
      },
      "source": [
        "Tokenization"
      ]
    },
    {
      "cell_type": "code",
      "metadata": {
        "id": "lo_Vg_lRpzET"
      },
      "source": [
        "df['tokenized'] = df['lowercase'].apply(lambda x: word_tokenize(x))"
      ],
      "execution_count": null,
      "outputs": []
    },
    {
      "cell_type": "markdown",
      "metadata": {
        "id": "tFb38MyvlgZh"
      },
      "source": [
        "Remove stopwords"
      ]
    },
    {
      "cell_type": "code",
      "metadata": {
        "id": "SxWmGw1Nlivl"
      },
      "source": [
        "sw = stopwords.words('english')\n",
        "\n",
        "def remove_stopwords(text):\n",
        "    text = [word for word in text if word not in sw]\n",
        "    return text\n",
        "df['nonsw'] = df['tokenized'].apply(lambda x: remove_stopwords(x))"
      ],
      "execution_count": null,
      "outputs": []
    },
    {
      "cell_type": "markdown",
      "metadata": {
        "id": "D8FIx2WPmLro"
      },
      "source": [
        "Lemmatization"
      ]
    },
    {
      "cell_type": "code",
      "metadata": {
        "id": "WV-brsmOmJ4O"
      },
      "source": [
        "def get_wordnet_pos(nltk_tag):\n",
        "    if nltk_tag.startswith('J'):\n",
        "        return wordnet.ADJ\n",
        "    elif nltk_tag.startswith('V'):\n",
        "        return wordnet.VERB\n",
        "    elif nltk_tag.startswith('N'):\n",
        "        return wordnet.NOUN\n",
        "    elif nltk_tag.startswith('R'):\n",
        "        return wordnet.ADV\n",
        "    else:          \n",
        "        return None"
      ],
      "execution_count": null,
      "outputs": []
    },
    {
      "cell_type": "code",
      "metadata": {
        "id": "kenNzZ0MmOLH"
      },
      "source": [
        "lemmatizer = WordNetLemmatizer()\n",
        "\n",
        "def lemmatize_sentence(t):\n",
        "    nltk_tagged = nltk.pos_tag(t)\n",
        "    wordnet_tagged = map(lambda x: (x[0], get_wordnet_pos(x[1])), nltk_tagged)\n",
        "    lemma = []\n",
        "    for word, tag in wordnet_tagged:\n",
        "        if tag is None:\n",
        "            lemma.append(word)\n",
        "        else:        \n",
        "            lemma.append(lemmatizer.lemmatize(word, tag))\n",
        "    return lemma\n",
        "\n",
        "df['lemmed'] = df['nonsw'].apply(lambda x: lemmatize_sentence(x))"
      ],
      "execution_count": null,
      "outputs": []
    },
    {
      "cell_type": "code",
      "metadata": {
        "colab": {
          "base_uri": "https://localhost:8080/",
          "height": 371
        },
        "id": "L7Hiwu2jiDns",
        "outputId": "b02c42bc-d382-454c-e151-9cb68a8451a5"
      },
      "source": [
        "df.head()"
      ],
      "execution_count": null,
      "outputs": [
        {
          "output_type": "execute_result",
          "data": {
            "text/html": [
              "<div>\n",
              "<style scoped>\n",
              "    .dataframe tbody tr th:only-of-type {\n",
              "        vertical-align: middle;\n",
              "    }\n",
              "\n",
              "    .dataframe tbody tr th {\n",
              "        vertical-align: top;\n",
              "    }\n",
              "\n",
              "    .dataframe thead th {\n",
              "        text-align: right;\n",
              "    }\n",
              "</style>\n",
              "<table border=\"1\" class=\"dataframe\">\n",
              "  <thead>\n",
              "    <tr style=\"text-align: right;\">\n",
              "      <th></th>\n",
              "      <th>sentiment</th>\n",
              "      <th>text</th>\n",
              "      <th>punct</th>\n",
              "      <th>lowercase</th>\n",
              "      <th>tokenized</th>\n",
              "      <th>nonsw</th>\n",
              "      <th>lemmed</th>\n",
              "    </tr>\n",
              "  </thead>\n",
              "  <tbody>\n",
              "    <tr>\n",
              "      <th>0</th>\n",
              "      <td>neutral</td>\n",
              "      <td>According to Gran , the company has no plans t...</td>\n",
              "      <td>According to Gran   the company has no plans t...</td>\n",
              "      <td>according to gran   the company has no plans t...</td>\n",
              "      <td>[according, to, gran, the, company, has, no, p...</td>\n",
              "      <td>[according, gran, company, plans, move, produc...</td>\n",
              "      <td>[accord, gran, company, plan, move, production...</td>\n",
              "    </tr>\n",
              "    <tr>\n",
              "      <th>1</th>\n",
              "      <td>neutral</td>\n",
              "      <td>Technopolis plans to develop in stages an area...</td>\n",
              "      <td>Technopolis plans to develop in stages an area...</td>\n",
              "      <td>technopolis plans to develop in stages an area...</td>\n",
              "      <td>[technopolis, plans, to, develop, in, stages, ...</td>\n",
              "      <td>[technopolis, plans, develop, stages, area, le...</td>\n",
              "      <td>[technopolis, plan, develop, stage, area, less...</td>\n",
              "    </tr>\n",
              "    <tr>\n",
              "      <th>2</th>\n",
              "      <td>negative</td>\n",
              "      <td>The international electronic industry company ...</td>\n",
              "      <td>The international electronic industry company ...</td>\n",
              "      <td>the international electronic industry company ...</td>\n",
              "      <td>[the, international, electronic, industry, com...</td>\n",
              "      <td>[international, electronic, industry, company,...</td>\n",
              "      <td>[international, electronic, industry, company,...</td>\n",
              "    </tr>\n",
              "    <tr>\n",
              "      <th>3</th>\n",
              "      <td>positive</td>\n",
              "      <td>With the new production plant the company woul...</td>\n",
              "      <td>With the new production plant the company woul...</td>\n",
              "      <td>with the new production plant the company woul...</td>\n",
              "      <td>[with, the, new, production, plant, the, compa...</td>\n",
              "      <td>[new, production, plant, company, would, incre...</td>\n",
              "      <td>[new, production, plant, company, would, incre...</td>\n",
              "    </tr>\n",
              "    <tr>\n",
              "      <th>4</th>\n",
              "      <td>positive</td>\n",
              "      <td>According to the company 's updated strategy f...</td>\n",
              "      <td>According to the company  s updated strategy f...</td>\n",
              "      <td>according to the company  s updated strategy f...</td>\n",
              "      <td>[according, to, the, company, s, updated, stra...</td>\n",
              "      <td>[according, company, updated, strategy, years,...</td>\n",
              "      <td>[accord, company, update, strategy, year, basw...</td>\n",
              "    </tr>\n",
              "  </tbody>\n",
              "</table>\n",
              "</div>"
            ],
            "text/plain": [
              "  sentiment  ...                                             lemmed\n",
              "0   neutral  ...  [accord, gran, company, plan, move, production...\n",
              "1   neutral  ...  [technopolis, plan, develop, stage, area, less...\n",
              "2  negative  ...  [international, electronic, industry, company,...\n",
              "3  positive  ...  [new, production, plant, company, would, incre...\n",
              "4  positive  ...  [accord, company, update, strategy, year, basw...\n",
              "\n",
              "[5 rows x 7 columns]"
            ]
          },
          "metadata": {
            "tags": []
          },
          "execution_count": 13
        }
      ]
    },
    {
      "cell_type": "markdown",
      "metadata": {
        "id": "uCZvKyySsn0N"
      },
      "source": [
        "##Word embeddings Word2vec\n"
      ]
    },
    {
      "cell_type": "code",
      "metadata": {
        "colab": {
          "base_uri": "https://localhost:8080/"
        },
        "id": "2Pr8DHp9sEiC",
        "outputId": "8182c926-82d6-456e-ae14-8e0346fae2ab"
      },
      "source": [
        "data=df['lemmed']\n",
        "model_w2v = Word2Vec(\n",
        "            data,\n",
        "            size=200, # desired no. of features/independent variables\n",
        "            window=5, # context window size\n",
        "            min_count=2, # Ignores all words with total frequency lower than 2.                                  \n",
        "            sg = 1, # 1 for skip-gram model\n",
        "            hs = 0,\n",
        "            negative = 10, # for negative sampling\n",
        "            workers= 32, # no.of cores\n",
        "            seed = 34\n",
        ") \n",
        "\n",
        "model_w2v.train(data, total_examples= len(df['lemmed']), epochs=20)"
      ],
      "execution_count": null,
      "outputs": [
        {
          "output_type": "execute_result",
          "data": {
            "text/plain": [
              "(1004943, 1196920)"
            ]
          },
          "metadata": {
            "tags": []
          },
          "execution_count": 14
        }
      ]
    },
    {
      "cell_type": "code",
      "metadata": {
        "colab": {
          "base_uri": "https://localhost:8080/"
        },
        "id": "hbBGtM3sxVRS",
        "outputId": "4b87af8d-8f8a-4905-cc64-8325f92b2f03"
      },
      "source": [
        "model_w2v.wv.most_similar(positive=\"business\")"
      ],
      "execution_count": null,
      "outputs": [
        {
          "output_type": "execute_result",
          "data": {
            "text/plain": [
              "[('frozen', 0.5053852796554565),\n",
              " ('apetit', 0.49939218163490295),\n",
              " ('foodservice', 0.4912070631980896),\n",
              " ('rigid', 0.48503634333610535),\n",
              " ('qt', 0.47283458709716797),\n",
              " ('homeowner', 0.47277599573135376),\n",
              " ('eaton', 0.46965283155441284),\n",
              " ('kalmar', 0.46706438064575195),\n",
              " ('clarify', 0.46663597226142883),\n",
              " ('skogster', 0.4570878744125366)]"
            ]
          },
          "metadata": {
            "tags": []
          },
          "execution_count": 15
        }
      ]
    },
    {
      "cell_type": "code",
      "metadata": {
        "id": "DD-qTJdAiuqS"
      },
      "source": [
        "X=df.lemmed\n",
        "Y=df.sentiment\n",
        "\n",
        "tokenizer = Tokenizer()\n",
        "tokenizer.fit_on_texts(X)\n",
        "encoded_docs = tokenizer.texts_to_sequences(X)\n",
        "max_length = max([len(s) for s in X])\n",
        "x = pad_sequences(encoded_docs, maxlen=max_length, padding='post')"
      ],
      "execution_count": null,
      "outputs": []
    },
    {
      "cell_type": "code",
      "metadata": {
        "id": "SRh7HjmmM6Ch"
      },
      "source": [
        "# Transform categories into numbers\n",
        "le = LabelEncoder()\n",
        "y = le.fit_transform(Y)\n",
        "y = to_categorical(y)"
      ],
      "execution_count": null,
      "outputs": []
    },
    {
      "cell_type": "code",
      "metadata": {
        "id": "xvo1bvk-kWUF"
      },
      "source": [
        "embedding_matrix = np.zeros((len(tokenizer.word_index)+1, 200))\n",
        "for word, i in tokenizer.word_index.items():\n",
        "  if word in model_w2v.wv.vocab.keys():\n",
        "    embedding_matrix[i] = model_w2v.wv[word]"
      ],
      "execution_count": null,
      "outputs": []
    },
    {
      "cell_type": "markdown",
      "metadata": {
        "id": "S5QoBUkFUOHy"
      },
      "source": [
        "## CNN"
      ]
    },
    {
      "cell_type": "code",
      "metadata": {
        "id": "9QDI1QxUQs5O"
      },
      "source": [
        "# splitting data\n",
        "x_train,x_test,y_train,y_test = train_test_split(x, y,test_size = 0.2 , random_state = 0)"
      ],
      "execution_count": null,
      "outputs": []
    },
    {
      "cell_type": "code",
      "metadata": {
        "id": "7_OfETc3a_Uf"
      },
      "source": [
        "def cnn(x_train,x_test,y_train,y_test):\n",
        "  model = Sequential()\n",
        "  model.add(Embedding(len(tokenizer.word_index)+1, 200, input_length=x.shape[1], weights=[embedding_matrix]))\n",
        "  model.add(Conv1D(filters=128, kernel_size=5, activation='relu'))\n",
        "  model.add(MaxPooling1D(pool_size=2))\n",
        "  model.add(Flatten())\n",
        "  model.add(Dense(3, activation='softmax'))\n",
        "  print(model.summary())\n",
        "\n",
        "  early_stopping = EarlyStopping(\n",
        "      monitor='loss',\n",
        "      patience=3,\n",
        "      verbose=1,\n",
        "      restore_best_weights=True)\n",
        "\n",
        "  reduce_lr = ReduceLROnPlateau(\n",
        "      monitor='loss',\n",
        "      factor=0.5,\n",
        "      patience=1,\n",
        "      verbose=1)\n",
        "\n",
        "  callbacks = [ reduce_lr, early_stopping]\n",
        "  \n",
        "  model.compile(loss='binary_crossentropy', optimizer='adam', metrics=['accuracy'])\n",
        "  # fit network\n",
        "  model.fit(x_train, y_train, epochs=10, verbose=2, callbacks=callbacks)\n",
        "\n",
        "  y_predict=model.predict(x_test)\n",
        "  y_predict=np.argmax(y_predict, axis=1)\n",
        "  y_test=np.argmax(y_test, axis=1)\n",
        "  print(classification_report(y_test, y_predict))\n"
      ],
      "execution_count": null,
      "outputs": []
    },
    {
      "cell_type": "code",
      "metadata": {
        "colab": {
          "base_uri": "https://localhost:8080/"
        },
        "id": "GoAr3SyAbupW",
        "outputId": "8f9d8a8f-ad6e-42a0-deb8-0907a7dcd962"
      },
      "source": [
        "cnn(x_train,x_test,y_train,y_test)"
      ],
      "execution_count": null,
      "outputs": [
        {
          "output_type": "stream",
          "text": [
            "Model: \"sequential\"\n",
            "_________________________________________________________________\n",
            "Layer (type)                 Output Shape              Param #   \n",
            "=================================================================\n",
            "embedding (Embedding)        (None, 41, 200)           1505600   \n",
            "_________________________________________________________________\n",
            "conv1d (Conv1D)              (None, 37, 128)           128128    \n",
            "_________________________________________________________________\n",
            "max_pooling1d (MaxPooling1D) (None, 18, 128)           0         \n",
            "_________________________________________________________________\n",
            "flatten (Flatten)            (None, 2304)              0         \n",
            "_________________________________________________________________\n",
            "dense (Dense)                (None, 3)                 6915      \n",
            "=================================================================\n",
            "Total params: 1,640,643\n",
            "Trainable params: 1,640,643\n",
            "Non-trainable params: 0\n",
            "_________________________________________________________________\n",
            "None\n",
            "Epoch 1/10\n",
            "122/122 - 23s - loss: 0.4839 - accuracy: 0.6473\n",
            "Epoch 2/10\n",
            "122/122 - 6s - loss: 0.3624 - accuracy: 0.7536\n",
            "Epoch 3/10\n",
            "122/122 - 7s - loss: 0.2420 - accuracy: 0.8529\n",
            "Epoch 4/10\n",
            "122/122 - 7s - loss: 0.1390 - accuracy: 0.9327\n",
            "Epoch 5/10\n",
            "122/122 - 6s - loss: 0.0750 - accuracy: 0.9711\n",
            "Epoch 6/10\n",
            "122/122 - 6s - loss: 0.0428 - accuracy: 0.9853\n",
            "Epoch 7/10\n",
            "122/122 - 6s - loss: 0.0309 - accuracy: 0.9912\n",
            "Epoch 8/10\n",
            "122/122 - 6s - loss: 0.0336 - accuracy: 0.9910\n",
            "\n",
            "Epoch 00008: ReduceLROnPlateau reducing learning rate to 0.0005000000237487257.\n",
            "Epoch 9/10\n",
            "122/122 - 6s - loss: 0.0166 - accuracy: 0.9954\n",
            "Epoch 10/10\n",
            "122/122 - 6s - loss: 0.0146 - accuracy: 0.9943\n",
            "              precision    recall  f1-score   support\n",
            "\n",
            "           0       0.64      0.49      0.56       128\n",
            "           1       0.79      0.87      0.83       575\n",
            "           2       0.67      0.61      0.64       267\n",
            "\n",
            "    accuracy                           0.75       970\n",
            "   macro avg       0.70      0.66      0.67       970\n",
            "weighted avg       0.74      0.75      0.74       970\n",
            "\n"
          ],
          "name": "stdout"
        }
      ]
    },
    {
      "cell_type": "markdown",
      "metadata": {
        "id": "vwXiiMVojORY"
      },
      "source": [
        "## Handling data imbalance"
      ]
    },
    {
      "cell_type": "markdown",
      "metadata": {
        "id": "1D-QhtuBjcFl"
      },
      "source": [
        "#### Take into account class imbalances during the split stratifying the data according to y labels"
      ]
    },
    {
      "cell_type": "code",
      "metadata": {
        "id": "v7idQ7JCi81M"
      },
      "source": [
        "xtrain, xtest, ytrain, ytest = train_test_split(x, y, stratify=y, test_size = 0.2 , random_state = 0)"
      ],
      "execution_count": null,
      "outputs": []
    },
    {
      "cell_type": "code",
      "metadata": {
        "colab": {
          "base_uri": "https://localhost:8080/"
        },
        "id": "Blsrx9EEjHr8",
        "outputId": "b48e49ac-b206-4dde-e390-ea4e64750f65"
      },
      "source": [
        "cnn(xtrain, xtest, ytrain, ytest)"
      ],
      "execution_count": null,
      "outputs": [
        {
          "output_type": "stream",
          "text": [
            "Model: \"sequential_1\"\n",
            "_________________________________________________________________\n",
            "Layer (type)                 Output Shape              Param #   \n",
            "=================================================================\n",
            "embedding_1 (Embedding)      (None, 41, 200)           1505600   \n",
            "_________________________________________________________________\n",
            "conv1d_1 (Conv1D)            (None, 37, 128)           128128    \n",
            "_________________________________________________________________\n",
            "max_pooling1d_1 (MaxPooling1 (None, 18, 128)           0         \n",
            "_________________________________________________________________\n",
            "flatten_1 (Flatten)          (None, 2304)              0         \n",
            "_________________________________________________________________\n",
            "dense_1 (Dense)              (None, 3)                 6915      \n",
            "=================================================================\n",
            "Total params: 1,640,643\n",
            "Trainable params: 1,640,643\n",
            "Non-trainable params: 0\n",
            "_________________________________________________________________\n",
            "None\n",
            "Epoch 1/10\n",
            "122/122 - 8s - loss: 0.4937 - accuracy: 0.6483\n",
            "Epoch 2/10\n",
            "122/122 - 6s - loss: 0.3637 - accuracy: 0.7572\n",
            "Epoch 3/10\n",
            "122/122 - 6s - loss: 0.2371 - accuracy: 0.8602\n",
            "Epoch 4/10\n",
            "122/122 - 6s - loss: 0.1365 - accuracy: 0.9319\n",
            "Epoch 5/10\n",
            "122/122 - 6s - loss: 0.0735 - accuracy: 0.9752\n",
            "Epoch 6/10\n",
            "122/122 - 6s - loss: 0.0412 - accuracy: 0.9879\n",
            "Epoch 7/10\n",
            "122/122 - 7s - loss: 0.0314 - accuracy: 0.9897\n",
            "Epoch 8/10\n",
            "122/122 - 6s - loss: 0.0248 - accuracy: 0.9915\n",
            "Epoch 9/10\n",
            "122/122 - 7s - loss: 0.0254 - accuracy: 0.9912\n",
            "\n",
            "Epoch 00009: ReduceLROnPlateau reducing learning rate to 0.0005000000237487257.\n",
            "Epoch 10/10\n",
            "122/122 - 7s - loss: 0.0162 - accuracy: 0.9941\n",
            "              precision    recall  f1-score   support\n",
            "\n",
            "           0       0.60      0.54      0.57       121\n",
            "           1       0.80      0.88      0.84       576\n",
            "           2       0.69      0.58      0.63       273\n",
            "\n",
            "    accuracy                           0.75       970\n",
            "   macro avg       0.70      0.66      0.68       970\n",
            "weighted avg       0.74      0.75      0.74       970\n",
            "\n"
          ],
          "name": "stdout"
        }
      ]
    },
    {
      "cell_type": "markdown",
      "metadata": {
        "id": "UwwWUlLPxUeb"
      },
      "source": [
        "#### Reduce the number of samples in the prevailing category to make it proportional to the least represented group"
      ]
    },
    {
      "cell_type": "code",
      "metadata": {
        "colab": {
          "base_uri": "https://localhost:8080/"
        },
        "id": "i2-6sqjUxWE1",
        "outputId": "1c1bd388-7a47-41a3-d2f7-c15400743790"
      },
      "source": [
        "n = df['sentiment'].value_counts().min()\n",
        "n"
      ],
      "execution_count": null,
      "outputs": [
        {
          "output_type": "execute_result",
          "data": {
            "text/plain": [
              "604"
            ]
          },
          "metadata": {
            "tags": []
          },
          "execution_count": 28
        }
      ]
    },
    {
      "cell_type": "code",
      "metadata": {
        "id": "AJJQY6kpxqeI"
      },
      "source": [
        "balanced_data = pd.DataFrame(columns=['sentiment', 'lemmed'])\n",
        "# Reduce each group to the chosen number of samples\n",
        "data_groups = df.groupby('sentiment')\n",
        "for group in data_groups.indices:\n",
        "    reduced_class = data_groups.get_group(group)[['sentiment', 'lemmed']].iloc[:n, :]\n",
        "    balanced_data = balanced_data.append(reduced_class, ignore_index=True)"
      ],
      "execution_count": null,
      "outputs": []
    },
    {
      "cell_type": "code",
      "metadata": {
        "colab": {
          "base_uri": "https://localhost:8080/"
        },
        "id": "3f6y4yUfx22w",
        "outputId": "2bf191ed-7bba-4578-fca8-e4bcc8779201"
      },
      "source": [
        "# Class distribution in the new dataset\n",
        "balanced_data['sentiment'].value_counts()"
      ],
      "execution_count": null,
      "outputs": [
        {
          "output_type": "execute_result",
          "data": {
            "text/plain": [
              "neutral     604\n",
              "negative    604\n",
              "positive    604\n",
              "Name: sentiment, dtype: int64"
            ]
          },
          "metadata": {
            "tags": []
          },
          "execution_count": 30
        }
      ]
    },
    {
      "cell_type": "code",
      "metadata": {
        "id": "uwQH8--EzcEj"
      },
      "source": [
        "x2=balanced_data.lemmed\n",
        "y2 = to_categorical(le.fit_transform(balanced_data['sentiment']))\n",
        "\n",
        "tokenizer = Tokenizer()\n",
        "tokenizer.fit_on_texts(x2)\n",
        "encoded_docs = tokenizer.texts_to_sequences(x2)\n",
        "max_length = max([len(s) for s in x2])\n",
        "x2 = pad_sequences(encoded_docs, maxlen=max_length, padding='post')"
      ],
      "execution_count": null,
      "outputs": []
    },
    {
      "cell_type": "code",
      "metadata": {
        "id": "36O90pM80FEx"
      },
      "source": [
        "embedding_matrix = np.zeros((len(tokenizer.word_index)+1, 200))\n",
        "for word, i in tokenizer.word_index.items():\n",
        "  if word in model_w2v.wv.vocab.keys():\n",
        "    embedding_matrix[i] = model_w2v.wv[word]"
      ],
      "execution_count": null,
      "outputs": []
    },
    {
      "cell_type": "code",
      "metadata": {
        "id": "CvoRpH9_x9oD"
      },
      "source": [
        "# Training and test samples\n",
        "x2_train, x2_test, y2_train, y2_test = train_test_split(x2,\n",
        "                                                    y2,\n",
        "                                                    stratify=y2,\n",
        "                                                    test_size=0.2,\n",
        "                                                    random_state=1)\n"
      ],
      "execution_count": null,
      "outputs": []
    },
    {
      "cell_type": "code",
      "metadata": {
        "id": "ZdQK6Cf80bM7"
      },
      "source": [
        "early_stopping = EarlyStopping(\n",
        "      monitor='loss',\n",
        "      patience=3,\n",
        "      verbose=1,\n",
        "      restore_best_weights=True)\n",
        "\n",
        "reduce_lr = ReduceLROnPlateau(\n",
        "      monitor='loss',\n",
        "      factor=0.5,\n",
        "      patience=1,\n",
        "      verbose=1)\n",
        "\n",
        "callbacks = [ reduce_lr, early_stopping]"
      ],
      "execution_count": null,
      "outputs": []
    },
    {
      "cell_type": "code",
      "metadata": {
        "colab": {
          "base_uri": "https://localhost:8080/"
        },
        "id": "wZMKVWFwgNS9",
        "outputId": "0d82726e-2706-47cc-d743-c823fb466dc2"
      },
      "source": [
        "model = Sequential()\n",
        "model.add(Embedding(len(tokenizer.word_index)+1, 200, input_length=x2.shape[1], weights=[embedding_matrix]))\n",
        "model.add(Conv1D(filters=128, kernel_size=5, activation='relu'))\n",
        "model.add(MaxPooling1D(pool_size=2))\n",
        "model.add(Flatten())\n",
        "model.add(Dense(3, activation='softmax'))\n",
        "print(model.summary())"
      ],
      "execution_count": null,
      "outputs": [
        {
          "output_type": "stream",
          "text": [
            "Model: \"sequential_3\"\n",
            "_________________________________________________________________\n",
            "Layer (type)                 Output Shape              Param #   \n",
            "=================================================================\n",
            "embedding_3 (Embedding)      (None, 36, 200)           800000    \n",
            "_________________________________________________________________\n",
            "conv1d_3 (Conv1D)            (None, 32, 128)           128128    \n",
            "_________________________________________________________________\n",
            "max_pooling1d_3 (MaxPooling1 (None, 16, 128)           0         \n",
            "_________________________________________________________________\n",
            "flatten_3 (Flatten)          (None, 2048)              0         \n",
            "_________________________________________________________________\n",
            "dense_3 (Dense)              (None, 3)                 6147      \n",
            "=================================================================\n",
            "Total params: 934,275\n",
            "Trainable params: 934,275\n",
            "Non-trainable params: 0\n",
            "_________________________________________________________________\n",
            "None\n"
          ],
          "name": "stdout"
        }
      ]
    },
    {
      "cell_type": "code",
      "metadata": {
        "colab": {
          "base_uri": "https://localhost:8080/"
        },
        "id": "FcYA8KrFgSIf",
        "outputId": "5cb41ed3-68fc-4536-c650-89201c044066"
      },
      "source": [
        "model.compile(loss='binary_crossentropy', optimizer='adam', metrics=['accuracy'])\n",
        "# fit network\n",
        "model.fit(x2_train, y2_train, epochs=10, verbose=2, callbacks=callbacks)"
      ],
      "execution_count": null,
      "outputs": [
        {
          "output_type": "stream",
          "text": [
            "Epoch 1/10\n",
            "46/46 - 3s - loss: 0.5668 - accuracy: 0.5010\n",
            "Epoch 2/10\n",
            "46/46 - 2s - loss: 0.4350 - accuracy: 0.7053\n",
            "Epoch 3/10\n",
            "46/46 - 2s - loss: 0.3112 - accuracy: 0.8240\n",
            "Epoch 4/10\n",
            "46/46 - 2s - loss: 0.2002 - accuracy: 0.9110\n",
            "Epoch 5/10\n",
            "46/46 - 2s - loss: 0.1190 - accuracy: 0.9600\n",
            "Epoch 6/10\n",
            "46/46 - 2s - loss: 0.0773 - accuracy: 0.9738\n",
            "Epoch 7/10\n",
            "46/46 - 2s - loss: 0.0563 - accuracy: 0.9827\n",
            "Epoch 8/10\n",
            "46/46 - 2s - loss: 0.0433 - accuracy: 0.9834\n",
            "Epoch 9/10\n",
            "46/46 - 2s - loss: 0.0312 - accuracy: 0.9869\n",
            "Epoch 10/10\n",
            "46/46 - 2s - loss: 0.0335 - accuracy: 0.9848\n",
            "\n",
            "Epoch 00010: ReduceLROnPlateau reducing learning rate to 0.0005000000237487257.\n"
          ],
          "name": "stdout"
        },
        {
          "output_type": "execute_result",
          "data": {
            "text/plain": [
              "<keras.callbacks.History at 0x7f3b4553a310>"
            ]
          },
          "metadata": {
            "tags": []
          },
          "execution_count": 38
        }
      ]
    },
    {
      "cell_type": "code",
      "metadata": {
        "colab": {
          "base_uri": "https://localhost:8080/"
        },
        "id": "tSSSOrhsgXIy",
        "outputId": "9792a74a-080e-4ba9-d645-ade5da989caf"
      },
      "source": [
        "y2_predict=model.predict(x2_test)\n",
        "y2_predict=np.argmax(y2_predict, axis=1)\n",
        "y2_test=np.argmax(y2_test, axis=1)\n",
        "print(classification_report(y2_test, y2_predict))"
      ],
      "execution_count": null,
      "outputs": [
        {
          "output_type": "stream",
          "text": [
            "              precision    recall  f1-score   support\n",
            "\n",
            "           0       0.78      0.69      0.73       121\n",
            "           1       0.68      0.79      0.73       121\n",
            "           2       0.70      0.67      0.68       121\n",
            "\n",
            "    accuracy                           0.72       363\n",
            "   macro avg       0.72      0.72      0.72       363\n",
            "weighted avg       0.72      0.72      0.72       363\n",
            "\n"
          ],
          "name": "stdout"
        }
      ]
    },
    {
      "cell_type": "markdown",
      "metadata": {
        "id": "STOdLRBp7BwG"
      },
      "source": [
        "#### Oversampling using SMOTE"
      ]
    },
    {
      "cell_type": "code",
      "metadata": {
        "colab": {
          "base_uri": "https://localhost:8080/"
        },
        "id": "3iJS7YF-zD9H",
        "outputId": "02d2356c-1998-4030-8a22-b98fd9c986e5"
      },
      "source": [
        "from imblearn.over_sampling import SMOTE\n",
        "sm = SMOTE(random_state=2)\n",
        "x_train_res, y_train_res = sm.fit_sample(x_train, y_train)"
      ],
      "execution_count": null,
      "outputs": [
        {
          "output_type": "stream",
          "text": [
            "/usr/local/lib/python3.7/dist-packages/sklearn/externals/six.py:31: FutureWarning: The module is deprecated in version 0.21 and will be removed in version 0.23 since we've dropped support for Python 2.7. Please rely on the official version of six (https://pypi.org/project/six/).\n",
            "  \"(https://pypi.org/project/six/).\", FutureWarning)\n",
            "/usr/local/lib/python3.7/dist-packages/sklearn/utils/deprecation.py:144: FutureWarning: The sklearn.neighbors.base module is  deprecated in version 0.22 and will be removed in version 0.24. The corresponding classes / functions should instead be imported from sklearn.neighbors. Anything that cannot be imported from sklearn.neighbors is now part of the private API.\n",
            "  warnings.warn(message, FutureWarning)\n",
            "/usr/local/lib/python3.7/dist-packages/sklearn/utils/deprecation.py:87: FutureWarning: Function safe_indexing is deprecated; safe_indexing is deprecated in version 0.22 and will be removed in version 0.24.\n",
            "  warnings.warn(msg, category=FutureWarning)\n",
            "/usr/local/lib/python3.7/dist-packages/sklearn/utils/deprecation.py:87: FutureWarning: Function safe_indexing is deprecated; safe_indexing is deprecated in version 0.22 and will be removed in version 0.24.\n",
            "  warnings.warn(msg, category=FutureWarning)\n"
          ],
          "name": "stderr"
        }
      ]
    },
    {
      "cell_type": "code",
      "metadata": {
        "colab": {
          "base_uri": "https://localhost:8080/"
        },
        "id": "9PRLsMNYdONE",
        "outputId": "9b035cd6-f28b-4cb6-da48-19d185d9e068"
      },
      "source": [
        "cnn(x_train_res, x_test, y_train_res, y_test)"
      ],
      "execution_count": null,
      "outputs": [
        {
          "output_type": "stream",
          "text": [
            "Model: \"sequential\"\n",
            "_________________________________________________________________\n",
            "Layer (type)                 Output Shape              Param #   \n",
            "=================================================================\n",
            "embedding (Embedding)        (None, 41, 200)           1505600   \n",
            "_________________________________________________________________\n",
            "conv1d (Conv1D)              (None, 37, 128)           128128    \n",
            "_________________________________________________________________\n",
            "max_pooling1d (MaxPooling1D) (None, 18, 128)           0         \n",
            "_________________________________________________________________\n",
            "flatten (Flatten)            (None, 2304)              0         \n",
            "_________________________________________________________________\n",
            "dense (Dense)                (None, 3)                 6915      \n",
            "=================================================================\n",
            "Total params: 1,640,643\n",
            "Trainable params: 1,640,643\n",
            "Non-trainable params: 0\n",
            "_________________________________________________________________\n",
            "None\n",
            "Epoch 1/10\n",
            "216/216 - 27s - loss: 0.5734 - accuracy: 0.5006\n",
            "Epoch 2/10\n",
            "216/216 - 11s - loss: 0.4412 - accuracy: 0.6937\n",
            "Epoch 3/10\n",
            "216/216 - 11s - loss: 0.2870 - accuracy: 0.8406\n",
            "Epoch 4/10\n",
            "216/216 - 11s - loss: 0.1500 - accuracy: 0.9449\n",
            "Epoch 5/10\n",
            "216/216 - 11s - loss: 0.0713 - accuracy: 0.9810\n",
            "Epoch 6/10\n",
            "216/216 - 11s - loss: 0.0391 - accuracy: 0.9910\n",
            "Epoch 7/10\n",
            "216/216 - 11s - loss: 0.0246 - accuracy: 0.9929\n",
            "Epoch 8/10\n",
            "216/216 - 11s - loss: 0.0187 - accuracy: 0.9955\n",
            "Epoch 9/10\n",
            "216/216 - 11s - loss: 0.0136 - accuracy: 0.9961\n",
            "Epoch 10/10\n",
            "216/216 - 11s - loss: 0.0154 - accuracy: 0.9959\n",
            "\n",
            "Epoch 00010: ReduceLROnPlateau reducing learning rate to 0.0005000000237487257.\n",
            "              precision    recall  f1-score   support\n",
            "\n",
            "           0       0.32      0.70      0.44       128\n",
            "           1       0.83      0.72      0.77       575\n",
            "           2       0.65      0.47      0.55       267\n",
            "\n",
            "    accuracy                           0.65       970\n",
            "   macro avg       0.60      0.63      0.59       970\n",
            "weighted avg       0.71      0.65      0.67       970\n",
            "\n"
          ],
          "name": "stdout"
        }
      ]
    },
    {
      "cell_type": "markdown",
      "metadata": {
        "id": "gHLZotygjJkb"
      },
      "source": [
        "## LSTM"
      ]
    },
    {
      "cell_type": "code",
      "metadata": {
        "colab": {
          "base_uri": "https://localhost:8080/"
        },
        "id": "yiOgwIP077Xe",
        "outputId": "f95c1b14-3127-4a87-99ac-eebe9e021c66"
      },
      "source": [
        "# init layer\n",
        "model_lstm = Sequential()\n",
        "\n",
        "# emmbed word vectors\n",
        "model_lstm .add(Embedding(len(tokenizer.word_index)+1, 200, input_length=x.shape[1], weights=[embedding_matrix]))\n",
        "\n",
        "# learn the correlations\n",
        "def split_input(sequence):\n",
        "     return sequence[:-1], tf.reshape(sequence[1:], (-1,1))\n",
        "model_lstm .add(LSTM(50,return_sequences=False))\n",
        "model_lstm .add(Dense(3,activation=\"softmax\"))\n",
        "\n",
        "# output model skeleton\n",
        "model_lstm .summary()\n",
        "model_lstm .compile(optimizer=\"adam\",loss=\"binary_crossentropy\",metrics=['acc'])"
      ],
      "execution_count": null,
      "outputs": [
        {
          "output_type": "stream",
          "text": [
            "Model: \"sequential_2\"\n",
            "_________________________________________________________________\n",
            "Layer (type)                 Output Shape              Param #   \n",
            "=================================================================\n",
            "embedding_2 (Embedding)      (None, 41, 200)           1505600   \n",
            "_________________________________________________________________\n",
            "lstm_2 (LSTM)                (None, 50)                50200     \n",
            "_________________________________________________________________\n",
            "dense_2 (Dense)              (None, 3)                 153       \n",
            "=================================================================\n",
            "Total params: 1,555,953\n",
            "Trainable params: 1,555,953\n",
            "Non-trainable params: 0\n",
            "_________________________________________________________________\n"
          ],
          "name": "stdout"
        }
      ]
    },
    {
      "cell_type": "code",
      "metadata": {
        "id": "NQEZmQkhe8AX"
      },
      "source": [
        "# splitting data\n",
        "x_train,x_test,y_train,y_test = train_test_split(x, y, stratify=y, test_size = 0.2 , random_state = 0)"
      ],
      "execution_count": null,
      "outputs": []
    },
    {
      "cell_type": "code",
      "metadata": {
        "colab": {
          "base_uri": "https://localhost:8080/"
        },
        "id": "eERsAy1ToJYO",
        "outputId": "38c34bb4-c728-4284-ea72-8a21d06d8eba"
      },
      "source": [
        "model_lstm.fit(x_train, y_train, epochs=10, verbose=2)"
      ],
      "execution_count": null,
      "outputs": [
        {
          "output_type": "stream",
          "text": [
            "Epoch 1/10\n",
            "122/122 - 22s - loss: 0.5297 - acc: 0.6138\n",
            "Epoch 2/10\n",
            "122/122 - 5s - loss: 0.4344 - acc: 0.6868\n",
            "Epoch 3/10\n",
            "122/122 - 5s - loss: 0.3494 - acc: 0.7554\n",
            "Epoch 4/10\n",
            "122/122 - 5s - loss: 0.2986 - acc: 0.7902\n",
            "Epoch 5/10\n",
            "122/122 - 5s - loss: 0.2596 - acc: 0.8117\n",
            "Epoch 6/10\n",
            "122/122 - 5s - loss: 0.2513 - acc: 0.8145\n",
            "Epoch 7/10\n",
            "122/122 - 5s - loss: 0.2083 - acc: 0.8633\n",
            "Epoch 8/10\n",
            "122/122 - 5s - loss: 0.1725 - acc: 0.9040\n",
            "Epoch 9/10\n",
            "122/122 - 5s - loss: 0.1799 - acc: 0.9014\n",
            "Epoch 10/10\n",
            "122/122 - 5s - loss: 0.1511 - acc: 0.9211\n"
          ],
          "name": "stdout"
        },
        {
          "output_type": "execute_result",
          "data": {
            "text/plain": [
              "<keras.callbacks.History at 0x7f3c3438f310>"
            ]
          },
          "metadata": {
            "tags": []
          },
          "execution_count": 23
        }
      ]
    },
    {
      "cell_type": "code",
      "metadata": {
        "colab": {
          "base_uri": "https://localhost:8080/"
        },
        "id": "O7nM0naCk6gy",
        "outputId": "e5df709f-71c0-4348-c9ab-db5324b2c683"
      },
      "source": [
        "loss, acc = model_lstm.evaluate(x_test, y_test, verbose=0)\n",
        "print('Test Accuracy: %f' % (acc*100))"
      ],
      "execution_count": null,
      "outputs": [
        {
          "output_type": "stream",
          "text": [
            "Test Accuracy: 72.061855\n"
          ],
          "name": "stdout"
        }
      ]
    },
    {
      "cell_type": "code",
      "metadata": {
        "colab": {
          "base_uri": "https://localhost:8080/"
        },
        "id": "mzMaTBWyoJYZ",
        "outputId": "23c43393-e268-49d7-c4cc-0027c9154b76"
      },
      "source": [
        "y_predict=model_lstm.predict(x_test)\n",
        "y_predict=np.argmax(y_predict, axis=1)\n",
        "y_test=np.argmax(y_test, axis=1)\n",
        "print(classification_report(y_test, y_predict))"
      ],
      "execution_count": null,
      "outputs": [
        {
          "output_type": "stream",
          "text": [
            "              precision    recall  f1-score   support\n",
            "\n",
            "           0       0.63      0.49      0.55       128\n",
            "           1       0.82      0.81      0.81       575\n",
            "           2       0.56      0.64      0.60       267\n",
            "\n",
            "    accuracy                           0.72       970\n",
            "   macro avg       0.67      0.65      0.66       970\n",
            "weighted avg       0.73      0.72      0.72       970\n",
            "\n"
          ],
          "name": "stdout"
        }
      ]
    }
  ]
}